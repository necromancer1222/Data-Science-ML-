{
 "cells": [
  {
   "cell_type": "code",
   "execution_count": 107,
   "metadata": {},
   "outputs": [],
   "source": [
    "import pandas as pd\n",
    "import numpy as np \n",
    "import seaborn as sns\n",
    "from sklearn.preprocessing import MinMaxScaler\n",
    "from sklearn.tree import DecisionTreeClassifier\n",
    "from sklearn.ensemble import AdaBoostClassifier\n",
    "from sklearn.ensemble import RandomForestClassifier\n",
    "from sklearn.svm import SVC\n",
    "from sklearn.model_selection import GridSearchCV\n",
    "from sklearn.metrics import accuracy_score\n",
    "from sklearn.metrics import make_scorer                      \n",
    "from sklearn.metrics import f1_score\n",
    "from sklearn.model_selection import train_test_split\n",
    "from sklearn.model_selection import ShuffleSplit"
   ]
  },
  {
   "cell_type": "markdown",
   "metadata": {},
   "source": [
    "## Featureset Exploration\n",
    "### Input Data fields (Features and Labels)\n",
    "The input data consists of 390 samples collected from 253 doctors.\n",
    "This data will be used for training and validation test in a file\n",
    "named medical attached with the project proposal.\n",
    "Every sample consists of 7 features and 1 label(the output target).\n",
    "* **medicine:** The commercial name of the medicine that I refer to it as type1 to type6.\n",
    "* **Price:** price for every drug of these 6 drugs for patient.\n",
    "* **exam_price:** examination price that the doctor takes from the patient.\n",
    "* **clinic_hos:** classification if this doctor has a private 'clinic' or works in a 'hospital'.\n",
    "* **dr_class:** doctor class was classified according to number of patients for every doctor and how much is this doctor famous and it was classified to 'a' and 'b'.\n",
    "\n",
    "**where:**\n",
    "\n",
    "* **class a:** are doctors with high patient rate\n",
    "* **class b:** are doctors with medium patient rate\n",
    "* **area:** every medical representative cover some areas in a city where the medical representative has to make a lot of visits for alot of doctors in different places and I refer to each area with the name (area1 to area8)with total 8 areas that I have covered to make my prospection.\n",
    "* **specialty:** the specialty of the doctor is one of the most important features because it will determine which of the 6 drugs will be suitable for this doctor to write it in his prescription. \n",
    "\n",
    "**These specialties are:**\n",
    "* **Chest:** chest specialist\n",
    "* **Im:** internal medicine specialist\n",
    "* **Cd:** cardiology specialist\n",
    "* **Neuro:** neurology specialist\n",
    "* **Git:** gastrointestinal tract specialist\n",
    "* **Ent:** ear, nose and throat specialist\n",
    "* **Sur:** surgery specialist\n",
    "* **Uro:** urology specialist\n",
    "* **Gp:** general practitioner\n",
    "* **Or:** orthopedic specialist\n",
    "* **Vas:** vascular specialst\n",
    "\n",
    "**With total 11 specialties.**\n",
    "\n",
    "* **Target (label):** just one target to classify if this doctor write any of these drugs in prescription to his patients or not. With (1) if the doctor writes the drug in his prescription and (0)if not."
   ]
  },
  {
   "cell_type": "code",
   "execution_count": 131,
   "metadata": {},
   "outputs": [
    {
     "data": {
      "text/html": [
       "<div>\n",
       "<style scoped>\n",
       "    .dataframe tbody tr th:only-of-type {\n",
       "        vertical-align: middle;\n",
       "    }\n",
       "\n",
       "    .dataframe tbody tr th {\n",
       "        vertical-align: top;\n",
       "    }\n",
       "\n",
       "    .dataframe thead th {\n",
       "        text-align: right;\n",
       "    }\n",
       "</style>\n",
       "<table border=\"1\" class=\"dataframe\">\n",
       "  <thead>\n",
       "    <tr style=\"text-align: right;\">\n",
       "      <th></th>\n",
       "      <th>medicine</th>\n",
       "      <th>area</th>\n",
       "      <th>speciality</th>\n",
       "      <th>price</th>\n",
       "      <th>dr_class</th>\n",
       "      <th>exam_price</th>\n",
       "      <th>clinic_hos</th>\n",
       "      <th>write</th>\n",
       "    </tr>\n",
       "  </thead>\n",
       "  <tbody>\n",
       "    <tr>\n",
       "      <th>0</th>\n",
       "      <td>type1</td>\n",
       "      <td>area1</td>\n",
       "      <td>chest</td>\n",
       "      <td>45</td>\n",
       "      <td>a</td>\n",
       "      <td>200</td>\n",
       "      <td>clinic</td>\n",
       "      <td>1</td>\n",
       "    </tr>\n",
       "    <tr>\n",
       "      <th>1</th>\n",
       "      <td>type4</td>\n",
       "      <td>area2</td>\n",
       "      <td>im</td>\n",
       "      <td>36</td>\n",
       "      <td>b</td>\n",
       "      <td>100</td>\n",
       "      <td>clinic</td>\n",
       "      <td>1</td>\n",
       "    </tr>\n",
       "    <tr>\n",
       "      <th>2</th>\n",
       "      <td>type1</td>\n",
       "      <td>area8</td>\n",
       "      <td>chest</td>\n",
       "      <td>45</td>\n",
       "      <td>a</td>\n",
       "      <td>75</td>\n",
       "      <td>hospital</td>\n",
       "      <td>1</td>\n",
       "    </tr>\n",
       "    <tr>\n",
       "      <th>3</th>\n",
       "      <td>type1</td>\n",
       "      <td>area5</td>\n",
       "      <td>chest</td>\n",
       "      <td>45</td>\n",
       "      <td>a</td>\n",
       "      <td>30</td>\n",
       "      <td>hospital</td>\n",
       "      <td>1</td>\n",
       "    </tr>\n",
       "    <tr>\n",
       "      <th>4</th>\n",
       "      <td>type5</td>\n",
       "      <td>area6</td>\n",
       "      <td>uro</td>\n",
       "      <td>29</td>\n",
       "      <td>a</td>\n",
       "      <td>220</td>\n",
       "      <td>clinic</td>\n",
       "      <td>0</td>\n",
       "    </tr>\n",
       "  </tbody>\n",
       "</table>\n",
       "</div>"
      ],
      "text/plain": [
       "  medicine   area speciality  price dr_class  exam_price clinic_hos  write\n",
       "0    type1  area1      chest     45        a         200     clinic      1\n",
       "1    type4  area2         im     36        b         100     clinic      1\n",
       "2    type1  area8      chest     45        a          75   hospital      1\n",
       "3    type1  area5      chest     45        a          30   hospital      1\n",
       "4    type5  area6        uro     29        a         220     clinic      0"
      ]
     },
     "execution_count": 131,
     "metadata": {},
     "output_type": "execute_result"
    }
   ],
   "source": [
    "data = pd.read_csv('training.txt')\n",
    "test = pd.read_csv('testing.txt')\n",
    "data.head()"
   ]
  },
  {
   "cell_type": "code",
   "execution_count": 139,
   "metadata": {},
   "outputs": [],
   "source": [
    "Y = data['write']\n",
    "X = data.drop('write', axis = 1)"
   ]
  },
  {
   "cell_type": "code",
   "execution_count": 140,
   "metadata": {},
   "outputs": [],
   "source": [
    "Y_test = test['write']\n",
    "X_test = test.drop('write', axis = 1)"
   ]
  },
  {
   "cell_type": "code",
   "execution_count": 110,
   "metadata": {
    "collapsed": true,
    "jupyter": {
     "outputs_hidden": true
    },
    "tags": []
   },
   "outputs": [
    {
     "name": "stdout",
     "output_type": "stream",
     "text": [
      "<class 'pandas.core.frame.DataFrame'>\n",
      "RangeIndex: 390 entries, 0 to 389\n",
      "Data columns (total 7 columns):\n",
      " #   Column      Non-Null Count  Dtype \n",
      "---  ------      --------------  ----- \n",
      " 0   medicine    390 non-null    object\n",
      " 1   area        390 non-null    object\n",
      " 2   speciality  390 non-null    object\n",
      " 3   price       390 non-null    int64 \n",
      " 4   dr_class    390 non-null    object\n",
      " 5   exam_price  390 non-null    int64 \n",
      " 6   clinic_hos  390 non-null    object\n",
      "dtypes: int64(2), object(5)\n",
      "memory usage: 21.5+ KB\n",
      "Info X \n",
      " None \n",
      "\n",
      "Describe X \n",
      "             price  exam_price\n",
      "count  390.000000  390.000000\n",
      "mean    35.715385  121.205128\n",
      "std      8.751263   86.729844\n",
      "min     20.000000   30.000000\n",
      "25%     29.000000   50.000000\n",
      "50%     36.000000   80.000000\n",
      "75%     45.000000  170.000000\n",
      "max     45.000000  350.000000 \n",
      "\n",
      "Value counts X \n",
      " medicine  area   speciality  price  dr_class  exam_price  clinic_hos\n",
      "type1     area5  im          45     b         30          hospital      10\n",
      "                 git         45     b         30          hospital       8\n",
      "                                    a         30          hospital       7\n",
      "type4     area5  git         36     b         30          hospital       6\n",
      "type6     area2  gp          20     b         50          hospital       5\n",
      "                                                                        ..\n",
      "type2     area6  cd          30     a         300         clinic         1\n",
      "                                    b         130         clinic         1\n",
      "          area7  cd          30     a         150         clinic         1\n",
      "                                    b         100         clinic         1\n",
      "type6     area8  im          20     b         160         clinic         1\n",
      "Length: 275, dtype: int64 \n",
      "\n"
     ]
    }
   ],
   "source": [
    "print('Info X \\n', X.info(),'\\n')\n",
    "print('Describe X \\n', X.describe(),'\\n')\n",
    "print('Value counts X \\n', X.value_counts(),'\\n')"
   ]
  },
  {
   "cell_type": "code",
   "execution_count": 80,
   "metadata": {
    "collapsed": true,
    "jupyter": {
     "outputs_hidden": true
    },
    "tags": []
   },
   "outputs": [
    {
     "name": "stdout",
     "output_type": "stream",
     "text": [
      "<class 'pandas.core.series.Series'>\n",
      "RangeIndex: 390 entries, 0 to 389\n",
      "Series name: write\n",
      "Non-Null Count  Dtype\n",
      "--------------  -----\n",
      "390 non-null    int64\n",
      "dtypes: int64(1)\n",
      "memory usage: 3.2 KB\n",
      "Info Y \n",
      " None \n",
      "\n",
      "Describe Y \n",
      " count    390.000000\n",
      "mean       0.587179\n",
      "std        0.492974\n",
      "min        0.000000\n",
      "25%        0.000000\n",
      "50%        1.000000\n",
      "75%        1.000000\n",
      "max        1.000000\n",
      "Name: write, dtype: float64 \n",
      "\n"
     ]
    }
   ],
   "source": [
    "print('Info Y \\n', Y.info(),'\\n')\n",
    "print('Describe Y \\n', Y.describe(),'\\n')\n"
   ]
  },
  {
   "cell_type": "code",
   "execution_count": 81,
   "metadata": {
    "collapsed": true,
    "jupyter": {
     "outputs_hidden": true
    },
    "tags": []
   },
   "outputs": [
    {
     "name": "stderr",
     "output_type": "stream",
     "text": [
      "C:\\Users\\ADMIN\\AppData\\Local\\Temp\\ipykernel_25216\\450153041.py:2: UserWarning: \n",
      "\n",
      "`distplot` is a deprecated function and will be removed in seaborn v0.14.0.\n",
      "\n",
      "Please adapt your code to use either `displot` (a figure-level function with\n",
      "similar flexibility) or `histplot` (an axes-level function for histograms).\n",
      "\n",
      "For a guide to updating your code to use the new functions, please see\n",
      "https://gist.github.com/mwaskom/de44147ed2974457ad6372750bbe5751\n",
      "\n",
      "  sns.distplot(data['price'])\n"
     ]
    },
    {
     "data": {
      "text/plain": [
       "<Axes: xlabel='price', ylabel='Density'>"
      ]
     },
     "execution_count": 81,
     "metadata": {},
     "output_type": "execute_result"
    },
    {
     "data": {
      "image/png": "[encoded data removed]",
      "text/plain": [
       "<Figure size 640x480 with 1 Axes>"
      ]
     },
     "metadata": {},
     "output_type": "display_data"
    }
   ],
   "source": [
    "#sns.boxplot(x=data['price'])\n",
    "sns.distplot(data['price'])\n"
   ]
  },
  {
   "cell_type": "code",
   "execution_count": 82,
   "metadata": {
    "collapsed": true,
    "jupyter": {
     "outputs_hidden": true
    },
    "tags": []
   },
   "outputs": [
    {
     "name": "stderr",
     "output_type": "stream",
     "text": [
      "C:\\Users\\ADMIN\\AppData\\Local\\Temp\\ipykernel_25216\\3872631376.py:2: UserWarning: \n",
      "\n",
      "`distplot` is a deprecated function and will be removed in seaborn v0.14.0.\n",
      "\n",
      "Please adapt your code to use either `displot` (a figure-level function with\n",
      "similar flexibility) or `histplot` (an axes-level function for histograms).\n",
      "\n",
      "For a guide to updating your code to use the new functions, please see\n",
      "https://gist.github.com/mwaskom/de44147ed2974457ad6372750bbe5751\n",
      "\n",
      "  sns.distplot(data['exam_price'])\n"
     ]
    },
    {
     "data": {
      "text/plain": [
       "<Axes: xlabel='exam_price', ylabel='Density'>"
      ]
     },
     "execution_count": 82,
     "metadata": {},
     "output_type": "execute_result"
    },
    {
     "data": {
      "image/png": "[encoded data removed]",
      "text/plain": [
       "<Figure size 640x480 with 1 Axes>"
      ]
     },
     "metadata": {},
     "output_type": "display_data"
    }
   ],
   "source": [
    "#sns.boxplot(x=data['exam_price'])\n",
    "sns.distplot(data['exam_price'])\n"
   ]
  },
  {
   "cell_type": "code",
   "execution_count": 141,
   "metadata": {},
   "outputs": [],
   "source": [
    "X_hot = pd.get_dummies(X)\n",
    "X_test_hot = pd.get_dummies(X_test)"
   ]
  },
  {
   "cell_type": "code",
   "execution_count": 134,
   "metadata": {},
   "outputs": [],
   "source": [
    "X_train, X_test, y_train, y_test = train_test_split(X_hot, Y, test_size=0.20, random_state=42)"
   ]
  },
  {
   "cell_type": "code",
   "execution_count": 135,
   "metadata": {},
   "outputs": [],
   "source": [
    "cv_sets = ShuffleSplit(n_splits=10, random_state=42, test_size=0.2, train_size=None)\n",
    "scorer = make_scorer(f1_score)"
   ]
  },
  {
   "cell_type": "code",
   "execution_count": 136,
   "metadata": {},
   "outputs": [
    {
     "name": "stdout",
     "output_type": "stream",
     "text": [
      "The training F1 Score is 0.7921348314606742\n",
      "The testing F1 Score is 0.6938775510204082\n",
      "The training accuracy is 0.7628205128205128\n",
      "The test accuracy is 0.6153846153846154\n"
     ]
    },
    {
     "data": {
      "text/html": [
       "<style>#sk-container-id-14 {color: black;background-color: white;}#sk-container-id-14 pre{padding: 0;}#sk-container-id-14 div.sk-toggleable {background-color: white;}#sk-container-id-14 label.sk-toggleable__label {cursor: pointer;display: block;width: 100%;margin-bottom: 0;padding: 0.3em;box-sizing: border-box;text-align: center;}#sk-container-id-14 label.sk-toggleable__label-arrow:before {content: \"▸\";float: left;margin-right: 0.25em;color: #696969;}#sk-container-id-14 label.sk-toggleable__label-arrow:hover:before {color: black;}#sk-container-id-14 div.sk-estimator:hover label.sk-toggleable__label-arrow:before {color: black;}#sk-container-id-14 div.sk-toggleable__content {max-height: 0;max-width: 0;overflow: hidden;text-align: left;background-color: #f0f8ff;}#sk-container-id-14 div.sk-toggleable__content pre {margin: 0.2em;color: black;border-radius: 0.25em;background-color: #f0f8ff;}#sk-container-id-14 input.sk-toggleable__control:checked~div.sk-toggleable__content {max-height: 200px;max-width: 100%;overflow: auto;}#sk-container-id-14 input.sk-toggleable__control:checked~label.sk-toggleable__label-arrow:before {content: \"▾\";}#sk-container-id-14 div.sk-estimator input.sk-toggleable__control:checked~label.sk-toggleable__label {background-color: #d4ebff;}#sk-container-id-14 div.sk-label input.sk-toggleable__control:checked~label.sk-toggleable__label {background-color: #d4ebff;}#sk-container-id-14 input.sk-hidden--visually {border: 0;clip: rect(1px 1px 1px 1px);clip: rect(1px, 1px, 1px, 1px);height: 1px;margin: -1px;overflow: hidden;padding: 0;position: absolute;width: 1px;}#sk-container-id-14 div.sk-estimator {font-family: monospace;background-color: #f0f8ff;border: 1px dotted black;border-radius: 0.25em;box-sizing: border-box;margin-bottom: 0.5em;}#sk-container-id-14 div.sk-estimator:hover {background-color: #d4ebff;}#sk-container-id-14 div.sk-parallel-item::after {content: \"\";width: 100%;border-bottom: 1px solid gray;flex-grow: 1;}#sk-container-id-14 div.sk-label:hover label.sk-toggleable__label {background-color: #d4ebff;}#sk-container-id-14 div.sk-serial::before {content: \"\";position: absolute;border-left: 1px solid gray;box-sizing: border-box;top: 0;bottom: 0;left: 50%;z-index: 0;}#sk-container-id-14 div.sk-serial {display: flex;flex-direction: column;align-items: center;background-color: white;padding-right: 0.2em;padding-left: 0.2em;position: relative;}#sk-container-id-14 div.sk-item {position: relative;z-index: 1;}#sk-container-id-14 div.sk-parallel {display: flex;align-items: stretch;justify-content: center;background-color: white;position: relative;}#sk-container-id-14 div.sk-item::before, #sk-container-id-14 div.sk-parallel-item::before {content: \"\";position: absolute;border-left: 1px solid gray;box-sizing: border-box;top: 0;bottom: 0;left: 50%;z-index: -1;}#sk-container-id-14 div.sk-parallel-item {display: flex;flex-direction: column;z-index: 1;position: relative;background-color: white;}#sk-container-id-14 div.sk-parallel-item:first-child::after {align-self: flex-end;width: 50%;}#sk-container-id-14 div.sk-parallel-item:last-child::after {align-self: flex-start;width: 50%;}#sk-container-id-14 div.sk-parallel-item:only-child::after {width: 0;}#sk-container-id-14 div.sk-dashed-wrapped {border: 1px dashed gray;margin: 0 0.4em 0.5em 0.4em;box-sizing: border-box;padding-bottom: 0.4em;background-color: white;}#sk-container-id-14 div.sk-label label {font-family: monospace;font-weight: bold;display: inline-block;line-height: 1.2em;}#sk-container-id-14 div.sk-label-container {text-align: center;}#sk-container-id-14 div.sk-container {/* jupyter's `normalize.less` sets `[hidden] { display: none; }` but bootstrap.min.css set `[hidden] { display: none !important; }` so we also need the `!important` here to be able to override the default hidden behavior on the sphinx rendered scikit-learn.org. See: https://github.com/scikit-learn/scikit-learn/issues/21755 */display: inline-block !important;position: relative;}#sk-container-id-14 div.sk-text-repr-fallback {display: none;}</style><div id=\"sk-container-id-14\" class=\"sk-top-container\"><div class=\"sk-text-repr-fallback\"><pre>DecisionTreeClassifier(max_depth=4, min_samples_leaf=9, random_state=42)</pre><b>In a Jupyter environment, please rerun this cell to show the HTML representation or trust the notebook. <br />On GitHub, the HTML representation is unable to render, please try loading this page with nbviewer.org.</b></div><div class=\"sk-container\" hidden><div class=\"sk-item\"><div class=\"sk-estimator sk-toggleable\"><input class=\"sk-toggleable__control sk-hidden--visually\" id=\"sk-estimator-id-14\" type=\"checkbox\" checked><label for=\"sk-estimator-id-14\" class=\"sk-toggleable__label sk-toggleable__label-arrow\">DecisionTreeClassifier</label><div class=\"sk-toggleable__content\"><pre>DecisionTreeClassifier(max_depth=4, min_samples_leaf=9, random_state=42)</pre></div></div></div></div></div>"
      ],
      "text/plain": [
       "DecisionTreeClassifier(max_depth=4, min_samples_leaf=9, random_state=42)"
      ]
     },
     "execution_count": 136,
     "metadata": {},
     "output_type": "execute_result"
    }
   ],
   "source": [
    "Tree = DecisionTreeClassifier(random_state=42)\n",
    "Tree.fit(X_train,y_train)\n",
    "y_Tree = Tree.predict(X_test)\n",
    "accuracy = accuracy_score(y_test, y_Tree)\n",
    "#print('accuracy =',accuracy)\n",
    "#print(\"F-score testing data: {:.4f}\".format(f1_score(y_test, y_Tree)))\n",
    "\n",
    "hyper_parameters_1 = {'max_depth':[3,4,5,7],'min_samples_leaf':[8,9,10,11], 'min_samples_split':[2,3,4,5,6], 'random_state' :[42]}\n",
    "grid_Tree = GridSearchCV(Tree, hyper_parameters_1, scoring=scorer, cv=cv_sets)\n",
    "grid_fit_Tree = grid_Tree.fit(X_train, y_train)\n",
    "best_Tree = grid_fit_Tree.best_estimator_\n",
    "best_Tree.fit(X_train, y_train)\n",
    "\n",
    "best_train_predictions = best_Tree.predict(X_train)\n",
    "best_test_predictions = best_Tree.predict(X_test)\n",
    "\n",
    "print('The training F1 Score is', f1_score(best_train_predictions, y_train))\n",
    "print('The testing F1 Score is', f1_score(best_test_predictions, y_test))\n",
    "train_accuracy = accuracy_score(y_train, best_train_predictions)\n",
    "test_accuracy = accuracy_score(y_test,best_test_predictions )\n",
    "print('The training accuracy is', train_accuracy)\n",
    "print('The test accuracy is', test_accuracy)\n",
    "\n",
    "best_Tree"
   ]
  },
  {
   "cell_type": "code",
   "execution_count": null,
   "metadata": {
    "jupyter": {
     "source_hidden": true
    },
    "tags": []
   },
   "outputs": [],
   "source": [
    "Rf = RandomForestClassifier(random_state=42)\n",
    "Rf.fit(X_train,y_train)\n",
    "y_Rf = Rf.predict(X_test)\n",
    "accuracy = accuracy_score(y_test, y_Rf)\n",
    "print('accuracy =',accuracy)\n",
    "print(\"F-score testing data: {:.4f}\".format(f1_score(y_test, y_Rf)))\n",
    "\n",
    "#hyper_parameters_2 = {'max_depth' :[2,6,10],'min_samples_leaf' :[50,100],'min_samples_split' :[100,200],'n_estimators' :[50,100,200], 'max_features': [5,10,24]}\n",
    "#grid_Rf = GridSearchCV(Rf, hyper_parameters_2, scoring=scorer, cv=cv_sets)\n",
    "#grid_fit_Rf = grid_Rf.fit(X_train, y_train)\n",
    "#best_Rf = grid_fit_Rf.best_estimator_\n",
    "#best_Rf.fit(X_train, y_train)\n"
   ]
  },
  {
   "cell_type": "code",
   "execution_count": 116,
   "metadata": {
    "collapsed": true,
    "jupyter": {
     "outputs_hidden": true,
     "source_hidden": true
    },
    "tags": []
   },
   "outputs": [
    {
     "name": "stdout",
     "output_type": "stream",
     "text": [
      "accuracy = 0.6794871794871795\n",
      "F-score testing data: 0.7475\n"
     ]
    }
   ],
   "source": [
    "Ada = AdaBoostClassifier(random_state=42)\n",
    "Ada.fit(X_train,y_train)\n",
    "y_Ada = Ada.predict(X_test)\n",
    "accuracy = accuracy_score(y_test, y_Ada)\n",
    "print('accuracy =',accuracy)\n",
    "print(\"F-score testing data: {:.4f}\".format(f1_score(y_test, y_Ada)))\n",
    "\n",
    "#hyper_parameters_3 = {'learning_rate' :[0.01,0.1,1], 'n_estimators' :[100,500,1000],'random_state' :[42]}\n",
    "#grid_Ada = GridSearchCV(Ada, hyper_parameters_3, scoring=scorer, cv=cv_sets)\n",
    "#grid_fit_Ada = grid_Ada.fit(X_train, y_train)\n",
    "#best_Ada = grid_fit_Ada.best_estimator_\n",
    "#best_Ada.fit(X_train, y_train)\n"
   ]
  },
  {
   "cell_type": "code",
   "execution_count": 117,
   "metadata": {
    "collapsed": true,
    "jupyter": {
     "outputs_hidden": true,
     "source_hidden": true
    },
    "tags": []
   },
   "outputs": [
    {
     "name": "stdout",
     "output_type": "stream",
     "text": [
      "accuracy = 0.6794871794871795\n",
      "F-score testing data: 0.7748\n"
     ]
    }
   ],
   "source": [
    "SVC = SVC(random_state=42)\n",
    "SVC.fit(X_train,y_train)\n",
    "y_SVC = SVC.predict(X_test)\n",
    "accuracy = accuracy_score(y_test, y_SVC)\n",
    "print('accuracy =',accuracy)\n",
    "print(\"F-score testing data: {:.4f}\".format(f1_score(y_test, y_SVC)))\n",
    "\n",
    "#hyper_parameters_4 = {'C':[10,12,15,17,18,20], 'kernel':['rbf'], 'gamma':[0.01,0.1,10,0.001,0.0001,0.00001]}\n",
    "#grid_SVC = GridSearchCV(SVC, hyper_parameters_3, scoring=scorer, cv=cv_sets)\n",
    "#grid_fit_SVC = grid_SVC.fit(X_train, y_train)\n",
    "#best_SVC = grid_fit_SVC.best_estimator_\n",
    "#best_SVC.fit(X_train, y_train)\n"
   ]
  },
  {
   "cell_type": "code",
   "execution_count": null,
   "metadata": {},
   "outputs": [],
   "source": []
  }
 ],
 "metadata": {
  "kernelspec": {
   "display_name": "Python 3 (ipykernel)",
   "language": "python",
   "name": "python3"
  },
  "language_info": {
   "codemirror_mode": {
    "name": "ipython",
    "version": 3
   },
   "file_extension": ".py",
   "mimetype": "text/x-python",
   "name": "python",
   "nbconvert_exporter": "python",
   "pygments_lexer": "ipython3",
   "version": "3.9.13"
  }
 },
 "nbformat": 4,
 "nbformat_minor": 4
}
