{
 "cells": [
  {
   "cell_type": "markdown",
   "metadata": {},
   "source": [
    "# Mean Normalization\n",
    "\n",
    "In machine learning we use large amounts of data to train our models. Some machine learning algorithms may require that the data is *normalized* in order to work correctly. The idea of normalization, also known as *feature scaling*, is to ensure that all the data is on a similar scale, *i.e.* that all the data takes on a similar range of values. For example, we might have a dataset that has values between 0 and 5,000. By normalizing the data we can make the range of values be between 0 and 1.\n",
    "\n",
    "In this lab, you will be performing a different kind of feature scaling known as *mean normalization*. Mean normalization will scale the data, but instead of making the values be between 0 and 1, it will distribute the values evenly in some small interval around zero. For example, if we have a dataset that has values between 0 and 5,000, after mean normalization the range of values will be distributed in some small range around 0, for example between -3 to 3. Because the range of values are distributed evenly around zero, this guarantees that the average (mean) of all elements will be zero. Therefore, when you perform *mean normalization* your data will not only be scaled but it will also have an average of zero. \n",
    "\n",
    "# To Do:\n",
    "\n",
    "You will start by importing NumPy and creating a rank 2 ndarray of random integers between 0 and 5,000 (inclusive) with 1000 rows and 20 columns. This array will simulate a dataset with a wide range of values. Fill in the code below"
   ]
  },
  {
   "cell_type": "code",
   "execution_count": 1,
   "metadata": {},
   "outputs": [
    {
     "name": "stdout",
     "output_type": "stream",
     "text": [
      "shape of X= (1000, 20)\n"
     ]
    }
   ],
   "source": [
    "# import NumPy into Python\n",
    "\n",
    "import numpy as np\n",
    "# Create a 1000 x 20 ndarray with random integers in the half-open interval [0, 5001).\n",
    "X = np.random.randint(0,5001,size=(1000,20))\n",
    "\n",
    "# print the shape of X\n",
    "print(\"shape of X=\",X.shape)"
   ]
  },
  {
   "cell_type": "markdown",
   "metadata": {},
   "source": [
    "Now that you created the array we will mean normalize it. We will perform mean normalization using the following equation:\n",
    "\n",
    "$\\mbox{Norm_Col}_i = \\frac{\\mbox{Col}_i - \\mu_i}{\\sigma_i}$\n",
    "\n",
    "where $\\mbox{Col}_i$ is the $i$th column of $X$, $\\mu_i$ is average of the values in the $i$th column of $X$, and $\\sigma_i$ is the standard deviation of the values in the $i$th column of $X$. In other words, mean normalization is performed by subtracting from each column of $X$ the average of its values, and then by dividing by the standard deviation of its values. In the space below, you will first calculate the average and standard deviation of each column of $X$. "
   ]
  },
  {
   "cell_type": "code",
   "execution_count": 2,
   "metadata": {},
   "outputs": [],
   "source": [
    "# Average of the values in each column of X\n",
    "ave_cols =np.mean(X,axis=0)\n",
    "\n",
    "# Standard Deviation of the values in each column of X\n",
    "std_cols =np.std(X,axis=0)"
   ]
  },
  {
   "cell_type": "markdown",
   "metadata": {},
   "source": [
    "If you have done the above calculations correctly, then `ave_cols` and `std_cols`, should both be vectors with shape `(20,)` since $X$ has 20 columns. You can verify this by filling the code below:"
   ]
  },
  {
   "cell_type": "code",
   "execution_count": 3,
   "metadata": {},
   "outputs": [
    {
     "name": "stdout",
     "output_type": "stream",
     "text": [
      "ave_cols=\n",
      " [2531.282 2490.934 2488.367 2551.224 2491.754 2503.838 2538.341 2510.963\n",
      " 2512.5   2490.845 2499.065 2496.431 2472.762 2558.76  2525.988 2435.285\n",
      " 2441.429 2522.082 2563.79  2543.771]\n",
      "\n",
      "Shape of ave_cols= (20,)\n",
      "\n",
      "std_cols=\n",
      " [1422.36682979 1447.6863416  1468.23049427 1449.07789364 1436.87877689\n",
      " 1420.28452775 1500.53759657 1419.00168345 1433.15042197 1448.98160477\n",
      " 1430.2956697  1451.40716728 1456.6053705  1485.05476882 1472.13806413\n",
      " 1464.12662218 1425.62609087 1440.48754916 1428.422574   1433.00247333]\n",
      "\n",
      "Shape of std_cols= (20,)\n"
     ]
    }
   ],
   "source": [
    "# Print the shape of ave_cols\n",
    "print(\"ave_cols=\\n\",ave_cols)\n",
    "print()\n",
    "print(\"Shape of ave_cols=\",ave_cols.shape)\n",
    "print()\n",
    "# Print the shape of std_cols\n",
    "print(\"std_cols=\\n\",std_cols)\n",
    "print()\n",
    "print(\"Shape of std_cols=\",std_cols.shape)"
   ]
  },
  {
   "cell_type": "markdown",
   "metadata": {},
   "source": [
    "You can now take advantage of Broadcasting to calculate the mean normalized version of $X$ in just one line of code using the equation above. Fill in the code below"
   ]
  },
  {
   "cell_type": "code",
   "execution_count": 4,
   "metadata": {},
   "outputs": [
    {
     "name": "stdout",
     "output_type": "stream",
     "text": [
      "X_norm=\n",
      " [[ 1.27162555e+00 -9.40765939e-01  1.16373622e+00 ... -6.55390601e-01\n",
      "  -1.42800180e+00 -1.41295709e+00]\n",
      " [-1.10047701e+00  1.42710471e-03 -9.39475788e-01 ...  1.31546989e+00\n",
      "   2.47972838e-01 -1.48762549e+00]\n",
      " [ 9.51033145e-01 -1.61010982e+00 -1.23779407e+00 ...  2.72073160e-01\n",
      "   9.50846076e-01  1.65891479e+00]\n",
      " ...\n",
      " [ 1.31802708e+00  1.33527957e+00  1.50292002e+00 ...  1.52373271e+00\n",
      "   1.38419123e+00 -1.13870773e+00]\n",
      " [ 4.23743009e-01  1.48379241e+00  1.61461910e+00 ...  1.16760329e+00\n",
      "   1.65364231e-01  1.70078492e+00]\n",
      " [-1.82992175e-01 -7.01073134e-01 -1.13835464e+00 ...  1.11970284e+00\n",
      "  -4.58400765e-01  5.15860240e-01]]\n"
     ]
    }
   ],
   "source": [
    "# Mean normalize X\n",
    "X_norm =(X-ave_cols)/std_cols\n",
    "print(\"X_norm=\\n\",X_norm)\n"
   ]
  },
  {
   "cell_type": "markdown",
   "metadata": {},
   "source": [
    "If you have performed the mean normalization correctly, then the average of all the elements in $X_{\\tiny{\\mbox{norm}}}$ should be close to zero, and they should be evenly distributed in some small interval around zero. You can verify this by filing the code below:"
   ]
  },
  {
   "cell_type": "code",
   "execution_count": 6,
   "metadata": {},
   "outputs": [
    {
     "name": "stdout",
     "output_type": "stream",
     "text": [
      "ave of X_norm= -3.268496584496461e-17\n",
      "ave of min columns -1.7317699734065097\n",
      "ave of max columns 1.7194909675241046\n"
     ]
    }
   ],
   "source": [
    "# Print the average of all the values of X_norm\n",
    "print(\"ave of X_norm=\",np.mean(X_norm))\n",
    "# Print the average of the minimum value in each column of X_norm\n",
    "min_cols=np.min(X_norm,axis=0)\n",
    "print(\"ave of min columns\",np.mean(min_cols))\n",
    "\n",
    "# Print the average of the maximum value in each column of X_norm\n",
    "max_cols=np.max(X_norm,axis=0)\n",
    "print(\"ave of max columns\",np.mean(max_cols))"
   ]
  },
  {
   "cell_type": "markdown",
   "metadata": {},
   "source": [
    "You should note that since $X$ was created using random integers, the above values will vary. \n",
    "\n",
    "# Data Separation\n",
    "\n",
    "After the data has been mean normalized, it is customary in machine learnig to split our dataset into three sets:\n",
    "\n",
    "1. A Training Set\n",
    "2. A Cross Validation Set\n",
    "3. A Test Set\n",
    "\n",
    "The dataset is usually divided such that the Training Set contains 60% of the data, the Cross Validation Set contains 20% of the data, and the Test Set contains 20% of the data. \n",
    "\n",
    "In this part of the lab you will separate `X_norm` into a Training Set, Cross Validation Set, and a Test Set. Each data set will contain rows of `X_norm` chosen at random, making sure that we don't pick the same row twice. This will guarantee that all the rows of `X_norm` are chosen and randomly distributed among the three new sets.\n",
    "\n",
    "You will start by creating a rank 1 ndarray that contains a random permutation of the row indices of `X_norm`. You can do this by using the `np.random.permutation()` function. The `np.random.permutation(N)` function creates a random permutation of integers from 0 to `N - 1`. Let's see an example:"
   ]
  },
  {
   "cell_type": "code",
   "execution_count": 7,
   "metadata": {},
   "outputs": [
    {
     "data": {
      "text/plain": [
       "array([4, 3, 1, 5, 8, 2, 0, 7, 6, 9])"
      ]
     },
     "execution_count": 7,
     "metadata": {},
     "output_type": "execute_result"
    }
   ],
   "source": [
    "# We create a random permutation of integers 0 to 4\n",
    "np.random.permutation(10)\n"
   ]
  },
  {
   "cell_type": "markdown",
   "metadata": {},
   "source": [
    "# To Do\n",
    "\n",
    "In the space below create a rank 1 ndarray that contains a random permutation of the row indices of `X_norm`. You can do this in one line of code by extracting the number of rows of `X_norm` using the `shape` attribute and then passing it to the  `np.random.permutation()` function. Remember the `shape` attribute returns a tuple with two numbers in the form `(rows,columns)`."
   ]
  },
  {
   "cell_type": "code",
   "execution_count": 8,
   "metadata": {},
   "outputs": [
    {
     "name": "stdout",
     "output_type": "stream",
     "text": [
      "[940 541 855 434 768 210 594 599 539 284 758 367  73 988 796 800 989 753\n",
      "  57 243  31 558 746 523 535 752 693 580 898 748 667 568 901 671 277 668\n",
      " 728 322   7 835 828 617 638 993 923 283  26 327 485 956 947 740 351 914\n",
      " 359 237 396 676 679   6  52  64 761 550 356 716 464 782 270 795 893 395\n",
      " 419 713 202 569  15 515  82 730 857 496 269 727 780 130 423 546 238 881\n",
      " 473 349 340 954 725 241 177 397 174 721 773 255 454  27 710  68   1 343\n",
      " 128 513 184 457 952 224 633 615 576 643 899  72 851  95 941  61 807 242\n",
      " 960 377 477 765 689 663 295 123 733 719 414 163 119 207 442 252 549 647\n",
      " 145 386 779 741 158   2 674 586 985 646  75  74 136 176 608 837 943 400\n",
      "  34 133 974 211 718 406 585 583 234 712 159 468 831 273 677 775 265 836\n",
      " 655 134 605 944 433 933 262 965  78 271 458 253 529 324 206 294 642 635\n",
      " 912 288 649  62 341  16 373 156 973 653 364 776 304 131  19 203 939 135\n",
      " 955 492 731 508 441  47 885 704 897 232 334 144 896 823 661 259 920 791\n",
      " 618 607  76  66  48 533 298 175 501   4 883 720  86 339 150 402 355 870\n",
      " 230 522 231 864 543 564 314 878 751 425 357 856 934 729  63 248 208 672\n",
      " 532 439 530 756 504 303 512 971 118 557 141 694 509 812 173 460 381  30\n",
      " 644 408 860 552 257 862 631 927 666 495 107 199 571 511 743 264 412 497\n",
      " 424 385 335 514 825  96 467 479 788 700 738 821 516  54 413 691 510 505\n",
      " 197 891 449 115 487 162 886 217  94 595 263  39 853 848 524 193 811 875\n",
      " 777 889 272  87 360 890 489 376 109 401 350 656 161 307 192 865 227 547\n",
      " 658 164 214 786 562   9 170 453 762 281 484 268 517 538 946 139 247 507\n",
      "  99 435 717 346 781 581 578  91 962 299 194 319 548 345 902 126 882 256\n",
      " 797 290 573 966 250 554 931 629 443 469 190 575  55 114 140 301 916 979\n",
      " 968 181 462   0 461 378 612 963 415 824  93 275 627 582 675 188 826 616\n",
      " 739 330 852 223 798 792 147 684 603  89 260 293 187 325 104 906 650   8\n",
      " 185 466 705 723 732 986 819 338 692 736 922 420 180 371 525 235  59 744\n",
      " 221 167 218 389 698 267  24 621 286 366  53 735 148 778 794 318 766 601\n",
      " 152  45 146 526 166 296 122 842 745 186 392 895 428 628 321 876 540 695\n",
      "  79 216 802 311 198 669 383 165 879 589 418 763 701 614 280 101 926 332\n",
      " 660 637 233 427 482 827 892 285 405 999 153 276  18 151 393 805 455  80\n",
      " 570  22 410 143 342 639 506 964 110 182 606 959 137 387 845 815 456 841\n",
      " 344 315 422 117 976 426 992 278 160 938 665 602 924 942 678 488 984 948\n",
      " 430 769 874 854 347 816 142 949 300  36 833 651 884 977 249 331 219  32\n",
      " 132  69 872  65  28 498 683 950 619 799 814 245 244 932 813 702 654 212\n",
      " 659 103 157 352 125  38 361 958 859 169 613 919 183 970 362 686 266  98\n",
      " 403  83 450 168 806 687 598 544 972 528 610  46 534  58 690 772 476  81\n",
      " 251 337 368 818 636 708 951 699 323 664 320 600 820  25 317 754 390 363\n",
      " 737 196 354  90 421 560 771 783 858 225 980 596 200  70 446 969 328 803\n",
      " 326 372 559 978  85 112 369 994 566 178 246 240 127 500 379 365 375 478\n",
      " 868 588 518 556 632 645 900 382 726 981 641 138 591 648 480 709 279 697\n",
      "  29 120 440 843 329 220 801 873 759 305 624 289 913 503 417 195 536 493\n",
      "  50 274 829 254 863 907 155 292 925 452 124  33 108 787 774 623 374 545\n",
      " 370 313 486 757 587 336 609  43 384 291 447 834 448 673 790 348 561 358\n",
      " 935 877 681 869 634 995 998 975 306 793 521 282 551 226 688 111 592 707\n",
      " 750 991 921  88 764 887 789 990 755 310 129 113 567 579 380  97 961  14\n",
      " 905 839  56 840 287 983 445 904 201 388 333 481 121 996 866 734  37  21\n",
      " 584 747 822 302 911 604 553 936 662 680 228   3 154 572 838  40 871  12\n",
      " 215 749 399 861 625 849 432 910 537 258 472 308 785 102 312 297  71 714\n",
      "  67 189  77 888 236 470  49 209 191 565 880 850 830 930 937 929 909 502\n",
      " 471 917  13 722 527 590 784 767 808  35 630 116 957 519 149 903 844 982\n",
      "  51 437  92 908 987 222 945 436 626 915 316 563 867 622 715  60 491  44\n",
      " 703 832  10 459 685 953 928 229 106 577 817  84 724 499  11 846 574 804\n",
      " 394 438 770 474 179 105 810 847 261 475 204 640 494 353 398 444 652 760\n",
      "   5 100 411 711 463 620 391 520 997  23 742 555 696 490 213 597 670 809\n",
      " 451 172 429 404 706 483 542  20 309 409 465 967 239  42 407 682 918 531\n",
      " 894 205 431  41 593 416  17 611 657 171]\n"
     ]
    }
   ],
   "source": [
    "# Create a rank 1 ndarray that contains a random permutation of the row indices of `X_norm`\n",
    "import numpy as np\n",
    "\n",
    "row_indices =np.random.permutation(X_norm.shape[0])\n",
    "print(row_indices)"
   ]
  },
  {
   "cell_type": "markdown",
   "metadata": {},
   "source": [
    "Now you can create the three datasets using the `row_indices` ndarray to select the rows that will go into each dataset. Rememeber that the Training Set contains 60% of the data, the Cross Validation Set contains 20% of the data, and the Test Set contains 20% of the data. Each set requires just one line of code to create. Fill in the code below"
   ]
  },
  {
   "cell_type": "code",
   "execution_count": 9,
   "metadata": {},
   "outputs": [],
   "source": [
    "# Make any necessary calculations.\n",
    "# You can save your calculations into variables to use later.\n",
    "\n",
    "\n",
    "# Create a Training Set\n",
    "X_train =X_norm[row_indices[0:600],:]\n",
    "\n",
    "# Create a Cross Validation Set\n",
    "X_crossVal =X_norm[row_indices[600:800],:]\n",
    "\n",
    "\n",
    "# Create a Test Set\n",
    "X_test =X_norm[row_indices[800:],:]"
   ]
  },
  {
   "cell_type": "markdown",
   "metadata": {},
   "source": [
    "If you performed the above calculations correctly, then `X_tain` should have 600 rows and 20 columns, `X_crossVal` should have 200 rows and 20 columns, and `X_test` should have 200 rows and 20 columns. You can verify this by filling the code below:"
   ]
  },
  {
   "cell_type": "code",
   "execution_count": 18,
   "metadata": {},
   "outputs": [
    {
     "name": "stdout",
     "output_type": "stream",
     "text": [
      "shape of X_train= (600, 20)\n",
      "shape of X_train= (200, 20)\n",
      "shape of X_test= (200, 20)\n"
     ]
    }
   ],
   "source": [
    "# Print the shape of X_train\n",
    "print(\"shape of X_train=\",X_train.shape)\n",
    "\n",
    "# Print the shape of X_crossVal\n",
    "\n",
    "print(\"shape of X_train=\",X_crossVal.shape)\n",
    "# Print the shape of X_test\n",
    "print(\"shape of X_test=\",X_test.shape)"
   ]
  },
  {
   "cell_type": "code",
   "execution_count": null,
   "metadata": {},
   "outputs": [],
   "source": []
  }
 ],
 "metadata": {
  "kernelspec": {
   "display_name": "Python 3 (ipykernel)",
   "language": "python",
   "name": "python3"
  },
  "language_info": {
   "codemirror_mode": {
    "name": "ipython",
    "version": 3
   },
   "file_extension": ".py",
   "mimetype": "text/x-python",
   "name": "python",
   "nbconvert_exporter": "python",
   "pygments_lexer": "ipython3",
   "version": "3.9.12"
  }
 },
 "nbformat": 4,
 "nbformat_minor": 2
}
